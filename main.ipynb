{
 "cells": [
  {
   "cell_type": "markdown",
   "metadata": {
    "id": "XHVfqw5kSemF"
   },
   "source": [
    "# Programming Assignment 1: MNIST Classification using MLP\n",
    "## EE5179:Deep Learning for Imaging\n",
    "## Classification using MLP\n",
    "\n",
    "\n",
    "**Name:** Saranath P \\\n",
    "**Roll No:** ns24z458"
   ]
  },
  {
   "cell_type": "markdown",
   "metadata": {
    "id": "HDy67W3sTbiX"
   },
   "source": [
    "# All imports"
   ]
  },
  {
   "cell_type": "code",
   "execution_count": 1,
   "metadata": {
    "id": "joe6d_a9TpsF"
   },
   "outputs": [],
   "source": [
    "import numpy as np\n",
    "from scipy.special import expit\n",
    "import matplotlib.pyplot as plt\n",
    "from sklearn.metrics import classification_report\n",
    "from datetime import datetime\n",
    "import torch\n",
    "from torchvision import datasets\n",
    "from torch.utils.data import DataLoader, random_split, TensorDataset\n",
    "from torchvision.transforms import ToTensor"
   ]
  },
  {
   "cell_type": "markdown",
   "metadata": {
    "id": "ukry4FMeTGl6"
   },
   "source": [
    "# Helper classes and functions.\n",
    "\n",
    "We will first get some helper classes and functions which will be used for implementing the backpropogation algorithm from scratch"
   ]
  },
  {
   "cell_type": "markdown",
   "metadata": {
    "id": "4fEkzcS_T3TJ"
   },
   "source": [
    "## Loss functions\n",
    "\n",
    "We define a class on various loss functions"
   ]
  },
  {
   "cell_type": "code",
   "execution_count": null,
   "metadata": {
    "id": "IdtSCeebQnhB"
   },
   "outputs": [],
   "source": [
    "class LossFunctions:\n",
    "\n",
    "    class SquaredErrorLoss:\n",
    "        def __init__(self, alpha=0.01, regularization='l2'):\n",
    "            \"\"\"\n",
    "            Initializes the SquaredErrorLoss with optional L1 or L2 regularization.\n",
    "\n",
    "            Parameters:\n",
    "            alpha (float): Regularization constant.\n",
    "            regularization (str): Type of regularization ('l1' for L1, 'l2' for L2, or None).\n",
    "            \"\"\"\n",
    "            self.alpha = alpha\n",
    "            self.regularization = regularization\n",
    "\n",
    "        def __call__(self, y_pred, y_true, model_weights=None):\n",
    "            \"\"\"\n",
    "            Computes the Mean Squared Error (MSE) with optional L1 or L2 regularization.\n",
    "\n",
    "            Parameters:\n",
    "            y_pred (ndarray): The predicted values.\n",
    "            y_true (ndarray): The true values.\n",
    "            model_weights (list): A list of model weights (e.g., numpy arrays).\n",
    "\n",
    "            Returns:\n",
    "            float: The regularized mean squared error.\n",
    "            \"\"\"\n",
    "            mse_loss = 0.5 * np.mean((y_pred - y_true) ** 2)\n",
    "\n",
    "            # Regularization term\n",
    "            if self.regularization == 'l2':\n",
    "                reg_term = self.alpha * sum(np.sum(w ** 2) for w in model_weights)\n",
    "            elif self.regularization == 'l1':\n",
    "                reg_term = self.alpha * sum(np.sum(np.abs(w)) for w in model_weights)\n",
    "            else:\n",
    "                reg_term = 0  # No regularization\n",
    "\n",
    "            return mse_loss + reg_term\n",
    "\n",
    "        def gradient(self, y_pred, y_true, model_weights=None):\n",
    "            \"\"\"\n",
    "            Computes the gradient of the Mean Squared Error (MSE) Loss with respect to y_pred,\n",
    "            including the gradient of the regularization term.\n",
    "\n",
    "            Parameters:\n",
    "            y_pred (ndarray): The predicted values.\n",
    "            y_true (ndarray): The true values.\n",
    "            model_weights (list): A list of model weights (e.g., numpy arrays).\n",
    "\n",
    "            Returns:\n",
    "            tuple: The gradient with respect to y_pred and the gradients with respect to the model weights.\n",
    "            \"\"\"\n",
    "            gradient_y_pred = 2 * (y_pred - y_true)\n",
    "\n",
    "\n",
    "            gradients_weights = []\n",
    "            if model_weights is not None:\n",
    "                for w in model_weights:\n",
    "                    if self.regularization == 'l2':\n",
    "                        grad_w = self.alpha * w\n",
    "                    elif self.regularization == 'l1':\n",
    "                        grad_w = self.alpha * np.sign(w)\n",
    "                    else:\n",
    "                        grad_w = np.zeros_like(w)\n",
    "                    gradients_weights.append(grad_w)\n",
    "\n",
    "            return gradient_y_pred, gradients_weights\n",
    "\n",
    "        def __repr__(self):\n",
    "            return f\"SquaredErrorLoss(alpha={self.alpha}, regularization={self.regularization})\"\n",
    "\n",
    "\n",
    "\n",
    "    class CrossEntropyLoss:\n",
    "        def __init__(self, alpha=0.01, regularization=None):\n",
    "            self.alpha = alpha\n",
    "            self.regularization = regularization\n",
    "\n",
    "        def __call__(self, y_pred, y_true, model_weights):\n",
    "\n",
    "            y_pred = np.clip(y_pred, 1e-15, 1 - 1e-15)\n",
    "            ce_loss = -np.sum(y_true * np.log(y_pred))\n",
    "\n",
    "\n",
    "            if self.regularization == 'l2':\n",
    "                reg_term = self.alpha * sum(np.sum(w ** 2) for w in model_weights)\n",
    "            elif self.regularization == 'l1':\n",
    "                reg_term = self.alpha * sum(np.sum(np.abs(w)) for w in model_weights)\n",
    "            else:\n",
    "                reg_term = 0\n",
    "\n",
    "            return ce_loss + reg_term\n",
    "\n",
    "        def gradient(self, y_pred, y_true, model_weights):\n",
    "            \"\"\"\n",
    "            Compute the gradient of the Cross-Entropy Loss with respect to y_pred,\n",
    "            including the gradient of the regularization term.\n",
    "\n",
    "            Parameters:\n",
    "            y_pred (ndarray): The predicted probabilities (output of softmax) of shape (num_classes,).\n",
    "            y_true (ndarray): The one-hot encoded true labels of shape (num_classes,).\n",
    "            model_weights (list): A list of model weights (e.g., numpy arrays).\n",
    "\n",
    "            Returns:\n",
    "            list: A list containing the gradient with respect to y_pred and the gradients\n",
    "                  with respect to the model weights.\n",
    "            \"\"\"\n",
    "\n",
    "            y_pred = np.clip(y_pred, 1e-15, 1 - 1e-15)\n",
    "            gradient_y_pred = -(y_true / y_pred)\n",
    "\n",
    "\n",
    "            gradients_weights = []\n",
    "            for w in model_weights:\n",
    "                if self.regularization == 'l2':\n",
    "                    grad_w = self.alpha * w\n",
    "                elif self.regularization == 'l1':\n",
    "                    grad_w = self.alpha * np.sign(w)\n",
    "                else:\n",
    "                    grad_w = np.zeros_like(w)\n",
    "                gradients_weights.append(grad_w)\n",
    "\n",
    "\n",
    "            return gradient_y_pred, gradients_weights\n",
    "\n",
    "\n",
    "        def __repr__(self):\n",
    "            return f\"CrossEntropyLoss(alpha={self.alpha}, regularization={self.regularization})\"\n"
   ]
  },
  {
   "cell_type": "markdown",
   "metadata": {
    "id": "0i2JLk9RURf5"
   },
   "source": [
    "## Activation functions\n",
    "\n",
    "We define the activation functions and its gradients."
   ]
  },
  {
   "cell_type": "code",
   "execution_count": null,
   "metadata": {
    "id": "DgPMQuUXUXFe"
   },
   "outputs": [],
   "source": [
    "class Activations:\n",
    "\n",
    "    class ReLU:\n",
    "        def __call__(self, x):\n",
    "            \"\"\"\n",
    "            Applies the ReLU activation function element-wise to the given input x.\n",
    "\n",
    "            Args:\n",
    "                x (numpy array): The input array.\n",
    "\n",
    "            Returns:\n",
    "                numpy array: The output of the ReLU activation function, which is element-wise max(0, x).\n",
    "            \"\"\"\n",
    "            return np.maximum(0, x)\n",
    "\n",
    "        def gradient(self, x):\n",
    "            \"\"\"\n",
    "            Computes the gradient (derivative) of the ReLU function for backpropagation.\n",
    "\n",
    "            Args:\n",
    "                x (numpy array): The input array.\n",
    "\n",
    "            Returns:\n",
    "                numpy array: The gradient of ReLU, which is 1 for x > 0 and 0 otherwise.\n",
    "            \"\"\"\n",
    "            return np.where(x > 0, 1, 0)\n",
    "\n",
    "\n",
    "\n",
    "    class Sigmoid:\n",
    "\n",
    "        def __call__(self, x):\n",
    "            \"\"\"\n",
    "            Applies the Sigmoid activation function to the given input x.\n",
    "\n",
    "            Args:\n",
    "                x (float): The input value.\n",
    "\n",
    "            Returns:\n",
    "                float: The output of the Sigmoid activation function.\n",
    "            \"\"\"\n",
    "            return expit(x)\n",
    "\n",
    "        def gradient(self, x):\n",
    "            \"\"\"\n",
    "            Computes the gradient of the Sigmoid activation function.\n",
    "\n",
    "            Args:\n",
    "                x (float): The input value.\n",
    "\n",
    "            Returns:\n",
    "                float: The gradient of the Sigmoid activation function.\n",
    "            \"\"\"\n",
    "            return self.__call__(x) * (1 - self.__call__(x))\n",
    "\n",
    "\n",
    "\n",
    "\n",
    "    class Softmax:\n",
    "\n",
    "        def __call__(self, x):\n",
    "            \"\"\"\n",
    "            Applies the Softmax activation function to the given input x.\n",
    "\n",
    "            Args:\n",
    "                x (numpy.ndarray): The input array.\n",
    "\n",
    "            Returns:\n",
    "                numpy.ndarray: The output of the Softmax activation function.\n",
    "            \"\"\"\n",
    "            exp_x = np.exp(x - np.max(x))  # Subtracting max(x) for numerical stability\n",
    "            return exp_x / np.sum(exp_x, axis=0)\n",
    "\n",
    "        def gradient(self, x):\n",
    "            \"\"\"\n",
    "            Computes the gradient of the Softmax activation function.\n",
    "\n",
    "            Args:\n",
    "                x (numpy.ndarray): The input array.\n",
    "\n",
    "            Returns:\n",
    "                numpy.ndarray: The Jacobian matrix of the Softmax activation function.\n",
    "            \"\"\"\n",
    "            s = self.__call__(x)\n",
    "            jacobian_matrix = np.diagflat(s) - np.outer(s, s)\n",
    "            return jacobian_matrix\n",
    "\n",
    "        def __repr__(self):\n",
    "            return \"Softmax\"\n",
    "\n",
    "\n",
    "    class Tanh:\n",
    "\n",
    "        def __call__(self, x):\n",
    "            \"\"\"\n",
    "            Applies the Tanh activation function to the given input x.\n",
    "\n",
    "            Args:\n",
    "                x (numpy.ndarray): The input array.\n",
    "\n",
    "            Returns:\n",
    "                numpy.ndarray: The output of the Tanh activation function.\n",
    "            \"\"\"\n",
    "            return np.tanh(x)\n",
    "\n",
    "        def gradient(self, x):\n",
    "            \"\"\"\n",
    "            Computes the gradient of the Tanh activation function.\n",
    "\n",
    "            Args:\n",
    "                x (numpy.ndarray): The input array.\n",
    "\n",
    "            Returns:\n",
    "                numpy.ndarray: The derivative of the Tanh activation function.\n",
    "            \"\"\"\n",
    "            return 1 - np.power(self.__call__(x), 2)\n",
    "\n",
    "    class Linear:\n",
    "\n",
    "        def __call__(self, x):\n",
    "            \"\"\"\n",
    "            Returns the input value.\n",
    "\n",
    "            Parameters:\n",
    "                x (Any): The input value.\n",
    "\n",
    "            Returns:\n",
    "                Any: The input value.\n",
    "            \"\"\"\n",
    "            return x\n",
    "\n",
    "        def gradient(self, x):\n",
    "            \"\"\"\n",
    "            Computes the gradient of the Linear activation function.\n",
    "\n",
    "            Args:\n",
    "                x (Any): The input value.\n",
    "\n",
    "            Returns:\n",
    "                int: The derivative of the Linear activation function, which is always 1.\n",
    "            \"\"\"\n",
    "            return 1"
   ]
  },
  {
   "cell_type": "markdown",
   "metadata": {
    "id": "8XxTnXMVUpeV"
   },
   "source": [
    "## Initialization\n",
    "\n",
    "We define various initialization methods here"
   ]
  },
  {
   "cell_type": "code",
   "execution_count": null,
   "metadata": {
    "id": "YQgWvfjnUtLK"
   },
   "outputs": [],
   "source": [
    "import numpy as np\n",
    "\n",
    "class ParameterInitializer:\n",
    "    def __init__(self, initialization='random'):\n",
    "        \"\"\"\n",
    "        Parameters:\n",
    "        initialization (str): 'random' for uniform random initialization,\n",
    "                              'gaussian' for Gaussian distribution,\n",
    "                              'glorot' for Glorot initialization.\n",
    "        \"\"\"\n",
    "        self.initialization = initialization\n",
    "\n",
    "    def initialize_parameters(self, inputs, hidden_layers, outputs):\n",
    "        \"\"\"\n",
    "        Initializes the parameters for a neural network.\n",
    "\n",
    "        Args:\n",
    "            inputs (int): The number of input nodes.\n",
    "            hidden_layers (list): A list of integers representing the number of nodes in each hidden layer.\n",
    "            outputs (int): The number of output nodes.\n",
    "\n",
    "        Returns:\n",
    "            dict: A dictionary containing the initialized parameters, with keys \"W1\" and \"b1\" for the first layer, and \"W{i+1}\" and \"b{i+1}\" for each hidden layer, where i is the index of the layer. The last two keys are \"W{len(hidden_layers) + 1}\" and \"b{len(hidden_layers) + 1}\" for the output layer.\n",
    "\n",
    "        Raises:\n",
    "            None.\n",
    "        \"\"\"\n",
    "        parameters = {}\n",
    "\n",
    "        if self.initialization == 'random':\n",
    "            parameters[\"W1\"] = np.random.rand(hidden_layers[0], inputs)\n",
    "            parameters[\"b1\"] = np.random.rand(hidden_layers[0])\n",
    "\n",
    "        elif self.initialization == 'gaussian':\n",
    "            parameters[\"W1\"] = np.random.randn(hidden_layers[0], inputs)\n",
    "            parameters[\"b1\"] = np.random.randn(hidden_layers[0])\n",
    "\n",
    "        elif self.initialization == 'glorot':\n",
    "            parameters[\"W1\"] = np.random.uniform(-np.sqrt(6 / (inputs + hidden_layers[0])),\n",
    "                                                 np.sqrt(6 / (inputs + hidden_layers[0])),\n",
    "                                                 (hidden_layers[0], inputs))\n",
    "            parameters[\"b1\"] = np.zeros(hidden_layers[0])\n",
    "\n",
    "        for i in range(1, len(hidden_layers)):\n",
    "            if self.initialization == 'random':\n",
    "                parameters[f\"W{i+1}\"] = np.random.rand(hidden_layers[i], hidden_layers[i - 1])\n",
    "                parameters[f\"b{i+1}\"] = np.random.rand(hidden_layers[i])\n",
    "            elif self.initialization == 'gaussian':\n",
    "                parameters[f\"W{i+1}\"] = np.random.randn(hidden_layers[i], hidden_layers[i - 1])\n",
    "                parameters[f\"b{i+1}\"] = np.random.randn(hidden_layers[i])\n",
    "            elif self.initialization == 'glorot':\n",
    "                parameters[f\"W{i+1}\"] = np.random.uniform(-np.sqrt(6 / (hidden_layers[i - 1] + hidden_layers[i])),\n",
    "                                                          np.sqrt(6 / (hidden_layers[i - 1] + hidden_layers[i])),\n",
    "                                                          (hidden_layers[i], hidden_layers[i - 1]))\n",
    "                parameters[f\"b{i+1}\"] = np.zeros(hidden_layers[i])\n",
    "\n",
    "        if self.initialization == 'random':\n",
    "            parameters[f\"W{len(hidden_layers) + 1}\"] = np.random.rand(outputs, hidden_layers[-1])\n",
    "            parameters[f\"b{len(hidden_layers) + 1}\"] = np.random.rand(outputs)\n",
    "        elif self.initialization == 'gaussian':\n",
    "            parameters[f\"W{len(hidden_layers) + 1}\"] = np.random.randn(outputs, hidden_layers[-1])\n",
    "            parameters[f\"b{len(hidden_layers) + 1}\"] = np.random.randn(outputs)\n",
    "        elif self.initialization == 'glorot':\n",
    "            parameters[f\"W{len(hidden_layers) + 1}\"] = np.random.uniform(-np.sqrt(6 / (hidden_layers[-1] + outputs)),\n",
    "                                                                         np.sqrt(6 / (hidden_layers[-1] + outputs)),\n",
    "                                                                         (outputs, hidden_layers[-1]))\n",
    "            parameters[f\"b{len(hidden_layers) + 1}\"] = np.zeros(outputs)\n",
    "\n",
    "        return parameters\n"
   ]
  },
  {
   "cell_type": "markdown",
   "metadata": {
    "id": "iwA-rr_fUxi2"
   },
   "source": [
    "# Feed Forward Neural Netowrk Implementation"
   ]
  },
  {
   "cell_type": "code",
   "execution_count": null,
   "metadata": {
    "id": "wMC_LxBpU1_s"
   },
   "outputs": [],
   "source": [
    "softmax = Activations.Softmax()\n",
    "sigmoid = Activations.Sigmoid()\n",
    "crossentropy = LossFunctions.CrossEntropyLoss()\n",
    "\n",
    "class FeedForwardNeuralNets:\n",
    "    def __init__(self, inputs, hidden_layers, outputs, g=sigmoid, L=crossentropy, O=softmax, eta=0.01,\n",
    "                 optimizer=\"gd\", initialization_method=\"glorot\", batch_size=32,\n",
    "                 beta1=0.9, beta2=0.999, epsilon=1e-8, t=0):\n",
    "        self.inputs = inputs\n",
    "        self.outputs = outputs\n",
    "        self.batch_size = min(batch_size, inputs.shape[0])\n",
    "        if len(self.outputs.shape) < 2:\n",
    "            self.parameters = ParameterInitializer(initialization_method).initialize_parameters(\n",
    "            inputs[0].shape[0], hidden_layers, 1)\n",
    "        else:\n",
    "            self.parameters = ParameterInitializer(initialization_method).initialize_parameters(\n",
    "                inputs[0].shape[0], hidden_layers, outputs[0].shape[0])\n",
    "        self.g = g\n",
    "        self.O = O\n",
    "        self.L = L\n",
    "        self.eta = eta\n",
    "        self.losses = {}\n",
    "        self.activations = {}\n",
    "        self.beta1 = beta1\n",
    "        self.beta2 = beta2\n",
    "        self.epsilon = epsilon\n",
    "        self.t = t\n",
    "        self.v = {key: np.zeros_like(value) for key, value in self.parameters.items()}\n",
    "        self.s = {key: np.zeros_like(value) for key, value in self.parameters.items()}\n",
    "        self.training_loss = []\n",
    "        self.validation_loss = []\n",
    "\n",
    "\n",
    "        if optimizer == \"gd\":\n",
    "            self.optimizer = self.gradient_descent\n",
    "        elif optimizer == \"adam\":\n",
    "            self.optimizer = self.adam\n",
    "\n",
    "    def forward_propogation(self, x):\n",
    "        \"\"\"\n",
    "        Performs forward propagation through the neural network.\n",
    "\n",
    "        Parameters:\n",
    "            x (numpy array): The input to the neural network.\n",
    "\n",
    "        Returns:\n",
    "            y_pred (numpy array): The predicted output of the neural network.\n",
    "        \"\"\"\n",
    "\n",
    "        self.activations[\"a1\"] = self.parameters[\"W1\"] @ x + self.parameters[\"b1\"]\n",
    "        self.activations[\"h1\"] = self.g(self.activations[\"a1\"])\n",
    "        for i in range(2, len(self.parameters) // 2):\n",
    "            self.activations[f\"a{i}\"] = self.parameters[f\"W{i}\"] @ self.activations[f\"h{i - 1}\"] + self.parameters[f\"b{i}\"]\n",
    "            self.activations[f\"h{i}\"] = self.g(self.activations[f\"a{i}\"])\n",
    "\n",
    "        self.activations[f\"a{len(self.parameters) // 2}\"] = self.parameters[f\"W{len(self.parameters) // 2}\"] @ self.activations[f\"h{len(self.parameters) // 2 - 1}\"] + self.parameters[f\"b{len(self.parameters) // 2}\"]\n",
    "        y_pred = self.O(self.activations[f\"a{len(self.parameters) // 2}\"])\n",
    "        return y_pred\n",
    "\n",
    "    def backPropogation(self, y_pred, y, x):\n",
    "        \"\"\"\n",
    "        Performs backpropagation through the neural network.\n",
    "\n",
    "        Parameters:\n",
    "            y_pred (numpy array): The predicted output of the neural network.\n",
    "            y (numpy array): The actual output of the neural network.\n",
    "            x (numpy array): The input to the neural network.\n",
    "\n",
    "        Returns:\n",
    "            None\n",
    "        \"\"\"\n",
    "        n = len(self.parameters) // 2\n",
    "        m = len(self.activations) // 2\n",
    "\n",
    "        La = y_pred - y\n",
    "\n",
    "        Lh = La @ self.parameters[f\"W{n}\"]\n",
    "\n",
    "        da = self.g.gradient(self.activations[f\"a{m}\"])\n",
    "        self.losses[f\"W{n}\"] = np.outer(La, self.activations[f\"h{m}\"])\n",
    "        self.losses[f\"b{n}\"] = La.copy()\n",
    "\n",
    "        for i in range(1, m):\n",
    "            La = Lh * da\n",
    "            Lh = La @ self.parameters[f\"W{m - i + 1}\"]\n",
    "            da = self.g.gradient(self.activations[f\"a{m - i}\"])\n",
    "            self.losses[f\"W{m - i + 1}\"] = np.outer(La, self.activations[f\"h{m - i}\"])\n",
    "            self.losses[f\"b{m - i + 1}\"] = La.copy()\n",
    "\n",
    "        La = Lh * da\n",
    "        self.losses[\"W1\"] = np.outer(La, x)\n",
    "        self.losses[\"b1\"] = La.copy()\n",
    "\n",
    "        _, gradients_weights = self.L.gradient(y_pred, y, list(self.parameters.values()))\n",
    "\n",
    "        for i, key in enumerate(self.parameters.keys()):\n",
    "            if key.startswith('W'):\n",
    "                self.losses[key] += gradients_weights[i]\n",
    "\n",
    "\n",
    "\n",
    "    def gradient_descent(self):\n",
    "        \"\"\"\n",
    "        Performs gradient descent optimization on the neural network's parameters.\n",
    "\n",
    "        Updates the weights (W) and biases (b) of the neural network by subtracting the product of the learning rate (eta) and the corresponding losses.\n",
    "\n",
    "        Parameters:\n",
    "            None\n",
    "\n",
    "        Returns:\n",
    "            None\n",
    "        \"\"\"\n",
    "        for i in range(len(self.parameters) // 2):\n",
    "            self.parameters[f\"W{i + 1}\"] = self.parameters[f\"W{i + 1}\"] - self.eta * self.losses[f\"W{i + 1}\"]\n",
    "            self.parameters[f\"b{i + 1}\"] = self.parameters[f\"b{i + 1}\"] - self.eta * self.losses[f\"b{i + 1}\"]\n",
    "\n",
    "\n",
    "    def adam(self):\n",
    "        \"\"\"\n",
    "        Performs Adam optimization on the neural network's parameters.\n",
    "\n",
    "        Updates the weights (W) and biases (b) of the neural network using the Adam optimization algorithm.\n",
    "\n",
    "        Parameters:\n",
    "            None\n",
    "\n",
    "        Returns:\n",
    "            None\n",
    "        \"\"\"\n",
    "        self.t += 1\n",
    "        for key in self.parameters.keys():\n",
    "            if key.startswith(\"W\") or key.startswith(\"b\"):\n",
    "                gradient = self.losses[key]\n",
    "\n",
    "                self.v[key] = self.beta1 * self.v[key] + (1 - self.beta1) * gradient\n",
    "                self.s[key] = self.beta2 * self.s[key] + (1 - self.beta2) * (gradient ** 2)\n",
    "\n",
    "                v_corrected = self.v[key] / (1 - self.beta1 ** self.t)\n",
    "                s_corrected = self.s[key] / (1 - self.beta2 ** self.t)\n",
    "\n",
    "                self.parameters[key] -= self.eta * v_corrected / (np.sqrt(s_corrected) + self.epsilon)\n",
    "\n",
    "    def train(self, epochs, validation_data=None):\n",
    "        \"\"\"\n",
    "        Trains the neural network model for a specified number of epochs.\n",
    "\n",
    "        This function takes in the number of epochs as input and performs the following operations:\n",
    "            - Shuffles the input data and corresponding outputs.\n",
    "            - Divides the shuffled data into batches based on the batch size.\n",
    "            - For each batch, it calculates the total gradient loss by iterating over each input and output pair.\n",
    "            - It then updates the model parameters using the optimizer function.\n",
    "            - If validation data is provided, calculates and appends the validation loss every 200 iterations.\n",
    "\n",
    "        Parameters:\n",
    "            epochs (int): The number of epochs to train the model for.\n",
    "            validation_data (tuple): A tuple containing validation inputs and outputs.\n",
    "\n",
    "        Returns:\n",
    "            None\n",
    "        \"\"\"\n",
    "        for epoch in range(epochs):\n",
    "            permutation = np.random.permutation(self.inputs.shape[0])\n",
    "            inputs_shuffled = self.inputs[permutation]\n",
    "            outputs_shuffled = self.outputs[permutation]\n",
    "\n",
    "            total_loss = 0\n",
    "\n",
    "            for i in range(0, self.inputs.shape[0], self.batch_size):\n",
    "                batch_inputs = inputs_shuffled[i:i + self.batch_size]\n",
    "                batch_outputs = outputs_shuffled[i:i + self.batch_size]\n",
    "\n",
    "                total_gradient_loss = {key: 0 for key in self.parameters.keys()}\n",
    "                batch_loss = 0\n",
    "\n",
    "                for x, y in zip(batch_inputs, batch_outputs):\n",
    "                    y_pred = self.forward_propogation(x)\n",
    "                    batch_loss += self.L(y_pred, y, list(self.parameters.values()))\n",
    "                    self.backPropogation(y_pred, y, x)\n",
    "\n",
    "                    for key in total_gradient_loss:\n",
    "                        total_gradient_loss[key] += self.losses.get(key, 0)\n",
    "\n",
    "                for key in total_gradient_loss:\n",
    "                    total_gradient_loss[key] /= self.batch_size\n",
    "\n",
    "                self.optimizer()\n",
    "\n",
    "                total_loss += batch_loss / self.batch_size\n",
    "\n",
    "\n",
    "                if (i // self.batch_size) % 200 == 0:\n",
    "                    iteration_loss = batch_loss / self.batch_size\n",
    "                    self.training_loss.append(iteration_loss)\n",
    "\n",
    "                    if validation_data is not None:\n",
    "                        val_inputs, val_outputs = validation_data\n",
    "                        val_loss = 0\n",
    "                        for x_val, y_val in zip(val_inputs, val_outputs):\n",
    "                            y_pred_val = self.forward_propogation(x_val)\n",
    "                            val_loss += self.L(y_pred_val, y_val, list(self.parameters.values()))\n",
    "                        val_loss /= val_inputs.shape[0]\n",
    "                        self.validation_loss.append(val_loss)\n",
    "\n",
    "            epoch_loss = total_loss / (self.inputs.shape[0] // self.batch_size)\n",
    "            if validation_data is not None:\n",
    "                val_loss = self.validation_loss[-1] if self.validation_loss else None\n",
    "                print(f'Epoch {epoch + 1}/{epochs}, Training Loss: {epoch_loss:.4f}, Validation Loss: {val_loss:.4f}')\n",
    "            else:\n",
    "                print(f'Epoch {epoch + 1}/{epochs}, Training Loss: {epoch_loss:.4f}')\n",
    "\n",
    "\n",
    "    def evaluate(self, X):\n",
    "        \"\"\"\n",
    "        Evaluates the neural network model for the given input X.\n",
    "\n",
    "        Parameters:\n",
    "            X (numpy array): The input to the neural network.\n",
    "\n",
    "        Returns:\n",
    "            numpy array: The predicted output of the neural network.\n",
    "        \"\"\"\n",
    "        return np.array(self.forward_propogation(X))\n",
    "\n",
    "    def predict(self, X):\n",
    "        \"\"\"\n",
    "        Uses evaluate function and get arg max and get the prediction\n",
    "\n",
    "        Parameters:\n",
    "            X (numpy array): The input to the neural network\n",
    "\n",
    "        Returns:\n",
    "            Class label: The label that has the highest probabiltiy\n",
    "        \"\"\"\n",
    "        return np.argmax(self.evaluate(X))\n"
   ]
  },
  {
   "cell_type": "markdown",
   "metadata": {
    "id": "KoLqtMpVVF8o"
   },
   "source": [
    "# Example Implementation"
   ]
  },
  {
   "cell_type": "code",
   "execution_count": null,
   "metadata": {
    "colab": {
     "base_uri": "https://localhost:8080/"
    },
    "id": "cyC3BD_0VJXf",
    "outputId": "424270bd-ae68-4769-bd94-c2ee10de29e8"
   },
   "outputs": [
    {
     "name": "stdout",
     "output_type": "stream",
     "text": [
      "One-hot encoded y:\n",
      "[[0. 1.]\n",
      " [1. 0.]\n",
      " [0. 1.]\n",
      " [1. 0.]\n",
      " [0. 1.]\n",
      " [1. 0.]\n",
      " [0. 1.]\n",
      " [1. 0.]\n",
      " [0. 1.]\n",
      " [1. 0.]]\n"
     ]
    }
   ],
   "source": [
    "X = np.array([\n",
    "    [0.1, 0.5, 0.2, 0.9, 0.3, 0.6, 0.4, 0.8, 0.7, 0.2],\n",
    "    [0.3, 0.2, 0.7, 0.4, 0.6, 0.8, 0.9, 0.5, 0.1, 0.3],\n",
    "    [0.8, 0.9, 0.4, 0.1, 0.5, 0.2, 0.7, 0.6, 0.3, 0.9],\n",
    "    [0.6, 0.2, 0.3, 0.7, 0.4, 0.1, 0.8, 0.9, 0.5, 0.6],\n",
    "    [0.5, 0.1, 0.8, 0.2, 0.9, 0.7, 0.3, 0.4, 0.6, 0.5],\n",
    "    [0.7, 0.3, 0.6, 0.5, 0.8, 0.4, 0.1, 0.2, 0.9, 0.7],\n",
    "    [0.2, 0.8, 0.1, 0.6, 0.4, 0.5, 0.7, 0.3, 0.2, 0.8],\n",
    "    [0.9, 0.6, 0.5, 0.3, 0.7, 0.2, 0.4, 0.1, 0.8, 0.6],\n",
    "    [0.4, 0.7, 0.9, 0.8, 0.2, 0.3, 0.6, 0.5, 0.1, 0.4],\n",
    "    [0.5, 0.3, 0.7, 0.4, 0.1, 0.8, 0.2, 0.6, 0.7, 0.5]\n",
    "])\n",
    "\n",
    "y = np.array([1, 0, 1, 0, 1, 0, 1, 0, 1, 0])\n",
    "num_classes = len(np.unique(y))\n",
    "y_one_hot = np.eye(num_classes)[y]\n",
    "\n",
    "print(\"One-hot encoded y:\")\n",
    "print(y_one_hot)"
   ]
  },
  {
   "cell_type": "code",
   "execution_count": null,
   "metadata": {
    "colab": {
     "base_uri": "https://localhost:8080/"
    },
    "id": "QEhgQiA-VP4k",
    "outputId": "e3ee09de-1b1b-4fe5-b986-49a7e044a693"
   },
   "outputs": [],
   "source": [
    "g_1 = LossFunctions.CrossEntropyLoss()\n",
    "g_2 = LossFunctions.CrossEntropyLoss(regularization='l2')\n",
    "\n",
    "model = FeedForwardNeuralNets(X, [50], y_one_hot, L=g_2, optimizer=\"adam\", g=Activations.ReLU(), eta=0.01,\n",
    "                            )\n",
    "model.train(epochs=500, validation_data=[X, y_one_hot])"
   ]
  },
  {
   "cell_type": "code",
   "execution_count": null,
   "metadata": {
    "colab": {
     "base_uri": "https://localhost:8080/"
    },
    "id": "oQKB7kLDVaGg",
    "outputId": "31b7134d-be8a-4359-9819-7934c73c0c44"
   },
   "outputs": [
    {
     "name": "stdout",
     "output_type": "stream",
     "text": [
      "[0.07989294 0.92010706]\n",
      "[0.77283669 0.22716331]\n",
      "[0.04117688 0.95882312]\n",
      "[0.93341553 0.06658447]\n",
      "[0.34602394 0.65397606]\n",
      "[0.94823665 0.05176335]\n",
      "[0.0046353 0.9953647]\n",
      "[0.93805742 0.06194258]\n",
      "[0.04854306 0.95145694]\n",
      "[0.76807655 0.23192345]\n"
     ]
    }
   ],
   "source": [
    "for i in X:\n",
    "    print(model.evaluate(i))"
   ]
  },
  {
   "cell_type": "code",
   "execution_count": null,
   "metadata": {
    "id": "7CV8qPwhhlVB",
    "outputId": "0f9330c0-7fe5-44b0-dc41-b679b4832351",
    "scrolled": true
   },
   "outputs": [],
   "source": [
    "model.parameters"
   ]
  },
  {
   "cell_type": "markdown",
   "metadata": {
    "id": "RUH5ds6OfIhk"
   },
   "source": [
    "# Importing MNIST Dataset"
   ]
  },
  {
   "cell_type": "code",
   "execution_count": 2,
   "metadata": {
    "id": "zmn7OPEnfL0B",
    "scrolled": true
   },
   "outputs": [],
   "source": [
    "training_data = datasets.MNIST(\n",
    "    root=\"data\",\n",
    "    train=True,\n",
    "    download=True,\n",
    "    transform=ToTensor()\n",
    ")\n",
    "\n",
    "test_data = datasets.MNIST(\n",
    "    root=\"data\",\n",
    "    train=False,\n",
    "    download=True,\n",
    "    transform=ToTensor()\n",
    ")"
   ]
  },
  {
   "cell_type": "code",
   "execution_count": 3,
   "metadata": {
    "id": "ib678rVEij06"
   },
   "outputs": [],
   "source": [
    "validation_size = 10000\n",
    "training_size = len(training_data) - validation_size\n",
    "\n",
    "train_dataset, val_dataset = random_split(training_data, [training_size, validation_size])\n",
    "\n",
    "train_loader = DataLoader(training_data, batch_size=training_size, shuffle=True)\n",
    "val_loader = DataLoader(val_dataset, batch_size=validation_size, shuffle=False)\n",
    "\n",
    "train_data = next(iter(train_loader))\n",
    "X_train = train_data[0].numpy()\n",
    "y_train = train_data[1].numpy()\n",
    "\n",
    "val_data = next(iter(val_loader))\n",
    "X_val = val_data[0].numpy()\n",
    "y_val = val_data[1].numpy()"
   ]
  },
  {
   "cell_type": "code",
   "execution_count": null,
   "metadata": {
    "colab": {
     "base_uri": "https://localhost:8080/",
     "height": 448
    },
    "id": "PnQSXxaLj0QG",
    "outputId": "56ad1719-a15d-4fe1-a053-2320a577b376"
   },
   "outputs": [
    {
     "data": {
      "text/plain": [
       "(<matplotlib.image.AxesImage at 0x7f9c7aaad280>, 0)"
      ]
     },
     "execution_count": 12,
     "metadata": {},
     "output_type": "execute_result"
    },
    {
     "data": {
      "image/png": "[encoded data removed]",
      "text/plain": [
       "<Figure size 640x480 with 1 Axes>"
      ]
     },
     "metadata": {},
     "output_type": "display_data"
    }
   ],
   "source": [
    "plt.imshow(X_train[6].reshape(28, 28), cmap=\"gray\"), y_train[6]"
   ]
  },
  {
   "cell_type": "markdown",
   "metadata": {
    "id": "7CHIC-uMlPCw"
   },
   "source": [
    "# Normalize the inputs to zero mean and unit variance"
   ]
  },
  {
   "cell_type": "code",
   "execution_count": null,
   "metadata": {
    "id": "sH6dKofXlSSN"
   },
   "outputs": [],
   "source": [
    "def preprocess(X, y):\n",
    "\n",
    "    X = X / 255.0\n",
    "    mean = X.mean()\n",
    "    std = X.std()\n",
    "    X = (X - mean) / std\n",
    "\n",
    "    X = X.reshape(X.shape[0], -1)\n",
    "\n",
    "    num_classes = len(np.unique(y))\n",
    "    return X, np.eye(num_classes)[y]\n",
    "\n",
    "X_train, y_train_one_hot = preprocess(X_train, y_train)\n",
    "X_val, y_val_one_hot = preprocess(X_val, y_val)"
   ]
  },
  {
   "cell_type": "markdown",
   "metadata": {
    "id": "ghzpv5TUlyck"
   },
   "source": [
    "# Train the network with given configuration\n",
    "\n",
    "As given as the base line model we will train the network according to the given configuration.\n",
    "\n",
    "Default :\n",
    "- $\\eta = 0.01$\n",
    "- Initialization method : Glorot\n",
    "- Activation : Sigmoid\n",
    "- Loss function : Cross Entropy\n",
    "- Output function : Softmax\n",
    "\n",
    "Hidden Layers :\n",
    "- $h_1 = 500$\n",
    "- $h_2 = 250$\n",
    "- $h_3 = 100$\n",
    "- $i/p = 28 \\times 28 = 764 \\times 1$ (After flattening)\n",
    "- $o/p = 10 \\times 1$ (Number of classes)\n",
    "\n",
    "Number of epochs : $15$"
   ]
  },
  {
   "cell_type": "code",
   "execution_count": null,
   "metadata": {
    "colab": {
     "base_uri": "https://localhost:8080/"
    },
    "id": "n16GJAail4Yj",
    "outputId": "7b1a031b-23b0-4d24-99ed-0761dfb1facc"
   },
   "outputs": [
    {
     "name": "stdout",
     "output_type": "stream",
     "text": [
      "Epoch 1/15, Training Loss: 2.3346, Validation Loss: 2.3094\n",
      "Epoch 2/15, Training Loss: 2.2171, Validation Loss: 2.1922\n",
      "Epoch 3/15, Training Loss: 1.9972, Validation Loss: 1.8870\n",
      "Epoch 4/15, Training Loss: 1.5686, Validation Loss: 1.4182\n",
      "Epoch 5/15, Training Loss: 1.1994, Validation Loss: 1.1047\n",
      "Epoch 6/15, Training Loss: 0.9789, Validation Loss: 0.9207\n",
      "Epoch 7/15, Training Loss: 0.8371, Validation Loss: 0.7936\n",
      "Epoch 8/15, Training Loss: 0.7298, Validation Loss: 0.7354\n",
      "Epoch 9/15, Training Loss: 0.6592, Validation Loss: 0.6320\n",
      "Epoch 10/15, Training Loss: 0.5953, Validation Loss: 0.5839\n",
      "Epoch 11/15, Training Loss: 0.5517, Validation Loss: 0.5399\n",
      "Epoch 12/15, Training Loss: 0.5212, Validation Loss: 0.5037\n",
      "Epoch 13/15, Training Loss: 0.4858, Validation Loss: 0.5226\n",
      "Epoch 14/15, Training Loss: 0.4673, Validation Loss: 0.4718\n",
      "Epoch 15/15, Training Loss: 0.4487, Validation Loss: 0.4499\n",
      "Total time taken for training: 0:44:24.319133\n"
     ]
    }
   ],
   "source": [
    "baselineModel = FeedForwardNeuralNets(X_train, [500, 250, 100], y_train_one_hot, optimizer=\"gd\", batch_size=64)\n",
    "\n",
    "\n",
    "start_time = datetime.now()\n",
    "\n",
    "\n",
    "\n",
    "baselineModel.train(epochs=15, validation_data=[X_val, y_val_one_hot])\n",
    "\n",
    "\n",
    "end_time = datetime.now()\n",
    "\n",
    "time_taken = end_time - start_time\n",
    "print(f\"Total time taken for training: {time_taken}\")\n",
    "\n",
    "# This cell takes to run approx. 44 mins with a 8 core CPU"
   ]
  },
  {
   "cell_type": "code",
   "execution_count": null,
   "metadata": {
    "colab": {
     "base_uri": "https://localhost:8080/",
     "height": 448
    },
    "id": "WSw4TRNkWNtS",
    "outputId": "ab490ef6-781a-4ea2-80d5-dd72e67ffd18"
   },
   "outputs": [
    {
     "data": {
      "text/plain": [
       "<matplotlib.image.AxesImage at 0x7f9c78739490>"
      ]
     },
     "execution_count": 15,
     "metadata": {},
     "output_type": "execute_result"
    },
    {
     "data": {
      "image/png": "[encoded data removed]",
      "text/plain": [
       "<Figure size 640x480 with 1 Axes>"
      ]
     },
     "metadata": {},
     "output_type": "display_data"
    }
   ],
   "source": [
    "plt.imshow(X_val[6].reshape(28, 28))"
   ]
  },
  {
   "cell_type": "code",
   "execution_count": null,
   "metadata": {
    "colab": {
     "base_uri": "https://localhost:8080/",
     "height": 146
    },
    "id": "B9TAQ3-FvTmy",
    "outputId": "6fd9913e-4582-45ca-da4d-6a71f99a4f54"
   },
   "outputs": [
    {
     "data": {
      "text/plain": [
       "(5, 5)"
      ]
     },
     "execution_count": 16,
     "metadata": {},
     "output_type": "execute_result"
    }
   ],
   "source": [
    "baselineModel.predict(X_val[600]), y_val[600]"
   ]
  },
  {
   "cell_type": "markdown",
   "metadata": {
    "id": "vnsADcU13BVy"
   },
   "source": [
    "# Plotting the Train and validation loss for every 200 iterations for baseline model\n",
    "\n",
    "We will try to plot how the loss varies for every 200 iterations."
   ]
  },
  {
   "cell_type": "code",
   "execution_count": null,
   "metadata": {
    "id": "dGLRd0DY3BVy",
    "outputId": "73d1fc8c-8093-43d3-e720-e214b1f90d4d"
   },
   "outputs": [
    {
     "data": {
      "image/png": "[encoded data removed]",
      "text/plain": [
       "<Figure size 640x480 with 1 Axes>"
      ]
     },
     "metadata": {},
     "output_type": "display_data"
    }
   ],
   "source": [
    "x_axis = np.arange(60)\n",
    "train_loss = np.array(baselineModel.training_loss)\n",
    "validation_loss = np.array(baselineModel.validation_loss)\n",
    "\n",
    "plt.plot(x_axis, train_loss, label='Training Loss')\n",
    "plt.plot(x_axis, validation_loss, label='Validation Loss')\n",
    "\n",
    "plt.title('Training vs Validation Loss')\n",
    "plt.xlabel('Iteration (in 200s)')\n",
    "plt.ylabel('Loss')\n",
    "\n",
    "\n",
    "plt.legend()\n",
    "plt.savefig('training_vs_validation_loss.png')\n",
    "plt.show()"
   ]
  },
  {
   "cell_type": "markdown",
   "metadata": {
    "id": "WZL2v_ng0UnM"
   },
   "source": [
    "# Testing with actualy test data"
   ]
  },
  {
   "cell_type": "code",
   "execution_count": null,
   "metadata": {
    "id": "p7X_eWQF0CHb"
   },
   "outputs": [],
   "source": [
    "test_loader = DataLoader(test_data, batch_size=len(test_data), shuffle=False)\n",
    "\n",
    "\n",
    "X_test, y_test = next(iter(test_loader))\n",
    "X_test = X_test.numpy()\n",
    "y_test = y_test.numpy()\n",
    "\n",
    "X_test, y_test_one_hot = preprocess(X_test, y_test)"
   ]
  },
  {
   "cell_type": "code",
   "execution_count": null,
   "metadata": {
    "colab": {
     "base_uri": "https://localhost:8080/"
    },
    "id": "KpcDnLwy1QAN",
    "outputId": "ba23004e-9a20-4871-825c-3fe49147804c"
   },
   "outputs": [
    {
     "data": {
      "text/plain": [
       "((50000, 784), (10000, 784))"
      ]
     },
     "execution_count": 19,
     "metadata": {},
     "output_type": "execute_result"
    }
   ],
   "source": [
    "X_train.shape, X_test.shape"
   ]
  },
  {
   "cell_type": "code",
   "execution_count": null,
   "metadata": {
    "colab": {
     "base_uri": "https://localhost:8080/"
    },
    "id": "XTGjrEo90hfU",
    "outputId": "98988786-d82e-4c13-b1f4-8599b0d563c0"
   },
   "outputs": [
    {
     "data": {
      "text/plain": [
       "(4, 4)"
      ]
     },
     "execution_count": 20,
     "metadata": {},
     "output_type": "execute_result"
    }
   ],
   "source": [
    "baselineModel.predict(X_test[6]), y_test[6]"
   ]
  },
  {
   "cell_type": "markdown",
   "metadata": {
    "id": "inFfGSy73BV0"
   },
   "source": [
    "# Calculate Loss for test data and plot it"
   ]
  },
  {
   "cell_type": "code",
   "execution_count": null,
   "metadata": {
    "id": "t_n4vMdR3BV1",
    "outputId": "ed73e06c-bc1d-47e6-9bbd-a1ba0e9c7f5f"
   },
   "outputs": [
    {
     "data": {
      "text/plain": [
       "array([0.01107608, 0.07231415, 0.03132954, ..., 0.90026971, 0.14412548,\n",
       "       0.10986916])"
      ]
     },
     "execution_count": 23,
     "metadata": {},
     "output_type": "execute_result"
    }
   ],
   "source": [
    "test_losses = []\n",
    "\n",
    "\n",
    "for x, y_true in zip(X_test, y_test_one_hot):\n",
    "    y_pred = baselineModel.forward_propogation(x)\n",
    "    loss = baselineModel.L(y_pred, y_true, list(baselineModel.parameters))\n",
    "    test_losses.append(loss)\n",
    "\n",
    "\n",
    "test_losses = np.array(test_losses)\n",
    "test_losses"
   ]
  },
  {
   "cell_type": "code",
   "execution_count": null,
   "metadata": {
    "id": "ndWS9BSP3BV1",
    "outputId": "c0c8c823-d71f-49a6-ac71-f32f0b2dce8f"
   },
   "outputs": [
    {
     "data": {
      "image/png": "[encoded data removed]",
      "text/plain": [
       "<Figure size 640x480 with 1 Axes>"
      ]
     },
     "metadata": {},
     "output_type": "display_data"
    }
   ],
   "source": [
    "plt.plot(test_losses)\n",
    "plt.title('Test Loss for Each Sample')\n",
    "plt.xlabel('Sample Index')\n",
    "plt.ylabel('Loss')\n",
    "plt.show()"
   ]
  },
  {
   "cell_type": "markdown",
   "metadata": {
    "id": "ReTUA-Ot3BV1"
   },
   "source": [
    "# Classification Report"
   ]
  },
  {
   "cell_type": "markdown",
   "metadata": {
    "id": "emD20p_W3BV2"
   },
   "source": [
    "## Train Data"
   ]
  },
  {
   "cell_type": "code",
   "execution_count": null,
   "metadata": {
    "id": "3HES53gb3BV2",
    "outputId": "678428b5-20c0-434d-ac8d-93a1f38ed6a0"
   },
   "outputs": [
    {
     "name": "stdout",
     "output_type": "stream",
     "text": [
      "              precision    recall  f1-score   support\n",
      "\n",
      "           0       0.90      0.97      0.93      4968\n",
      "           1       0.87      0.98      0.92      5689\n",
      "           2       0.86      0.86      0.86      4967\n",
      "           3       0.84      0.86      0.85      5141\n",
      "           4       0.92      0.78      0.84      4872\n",
      "           5       0.85      0.79      0.82      4524\n",
      "           6       0.97      0.86      0.91      4932\n",
      "           7       0.72      0.96      0.83      5192\n",
      "           8       0.90      0.77      0.83      4832\n",
      "           9       0.77      0.68      0.72      4883\n",
      "\n",
      "    accuracy                           0.85     50000\n",
      "   macro avg       0.86      0.85      0.85     50000\n",
      "weighted avg       0.86      0.85      0.85     50000\n",
      "\n"
     ]
    }
   ],
   "source": [
    "y_train_pred = []\n",
    "for x in X_train:\n",
    "    y_pred = baselineModel.predict(x)\n",
    "    y_train_pred.append(y_pred)\n",
    "\n",
    "y_train_pred = np.array(y_train_pred)\n",
    "print(classification_report(y_train, y_train_pred))"
   ]
  },
  {
   "cell_type": "markdown",
   "metadata": {
    "id": "jbLnASn93BV4"
   },
   "source": [
    "## Test data"
   ]
  },
  {
   "cell_type": "code",
   "execution_count": null,
   "metadata": {
    "id": "1qrD5MEo3BV4",
    "outputId": "f4ee8e09-865c-4387-a4b4-5d2bd5223b52"
   },
   "outputs": [
    {
     "name": "stdout",
     "output_type": "stream",
     "text": [
      "              precision    recall  f1-score   support\n",
      "\n",
      "           0       0.89      0.98      0.93       980\n",
      "           1       0.90      0.99      0.94      1135\n",
      "           2       0.87      0.86      0.86      1032\n",
      "           3       0.83      0.88      0.86      1010\n",
      "           4       0.90      0.78      0.84       982\n",
      "           5       0.85      0.77      0.81       892\n",
      "           6       0.97      0.84      0.90       958\n",
      "           7       0.73      0.95      0.83      1028\n",
      "           8       0.91      0.77      0.84       974\n",
      "           9       0.79      0.72      0.76      1009\n",
      "\n",
      "    accuracy                           0.86     10000\n",
      "   macro avg       0.86      0.86      0.86     10000\n",
      "weighted avg       0.86      0.86      0.86     10000\n",
      "\n"
     ]
    }
   ],
   "source": [
    "y_test_pred = []\n",
    "for x in X_test:\n",
    "    y_pred = baselineModel.predict(x)\n",
    "    y_test_pred.append(y_pred)\n",
    "\n",
    "y_test_pred = np.array(y_test_pred)\n",
    "print(classification_report(y_test, y_test_pred))"
   ]
  },
  {
   "cell_type": "markdown",
   "metadata": {
    "id": "n15tInE-3BV4"
   },
   "source": [
    "# Using different activation functions to train the model\n",
    "\n",
    "We will use two activation functions mentioned below and train our model\n",
    "\n",
    "- $\\text{Tanh}$\n",
    "- $\\text{ReLU}$"
   ]
  },
  {
   "cell_type": "markdown",
   "metadata": {
    "id": "zU0pOoa13BV5"
   },
   "source": [
    "## Using Tanh"
   ]
  },
  {
   "cell_type": "code",
   "execution_count": null,
   "metadata": {
    "id": "QvLcDQvB3BV5",
    "outputId": "7e87fac9-2821-4fba-8304-4f76176b7d75"
   },
   "outputs": [
    {
     "name": "stdout",
     "output_type": "stream",
     "text": [
      "Epoch 1/15, Training Loss: 0.8020, Validation Loss: 0.6118\n",
      "Epoch 2/15, Training Loss: 0.4991, Validation Loss: 0.6735\n",
      "Epoch 3/15, Training Loss: 0.4243, Validation Loss: 0.3930\n",
      "Epoch 4/15, Training Loss: 0.3991, Validation Loss: 0.4073\n",
      "Epoch 5/15, Training Loss: 0.3590, Validation Loss: 0.3651\n",
      "Epoch 6/15, Training Loss: 0.3477, Validation Loss: 0.3610\n",
      "Epoch 7/15, Training Loss: 0.3028, Validation Loss: 0.2737\n",
      "Epoch 8/15, Training Loss: 0.2937, Validation Loss: 0.2821\n",
      "Epoch 9/15, Training Loss: 0.2928, Validation Loss: 0.2897\n",
      "Epoch 10/15, Training Loss: 0.2627, Validation Loss: 0.2608\n",
      "Epoch 11/15, Training Loss: 0.2649, Validation Loss: 0.2623\n",
      "Epoch 12/15, Training Loss: 0.2462, Validation Loss: 0.2625\n",
      "Epoch 13/15, Training Loss: 0.2376, Validation Loss: 0.2231\n",
      "Epoch 14/15, Training Loss: 0.2520, Validation Loss: 0.2511\n",
      "Epoch 15/15, Training Loss: 0.2275, Validation Loss: 0.2076\n",
      "Total time taken for training: 0:57:37.176801\n"
     ]
    }
   ],
   "source": [
    "model_tanh = FeedForwardNeuralNets(X_train, [500, 250, 100], y_train_one_hot, optimizer=\"gd\", batch_size=64, g=Activations.Tanh())\n",
    "\n",
    "\n",
    "start_time = datetime.now()\n",
    "\n",
    "\n",
    "\n",
    "model_tanh.train(epochs=15, validation_data=[X_val, y_val_one_hot])\n",
    "\n",
    "\n",
    "end_time = datetime.now()\n",
    "\n",
    "time_taken = end_time - start_time\n",
    "print(f\"Total time taken for training: {time_taken}\")\n",
    "\n",
    "# This cell runs for 57 mins\n"
   ]
  },
  {
   "cell_type": "markdown",
   "metadata": {
    "id": "f7ytX-hH3BV5"
   },
   "source": [
    "## Using ReLU"
   ]
  },
  {
   "cell_type": "code",
   "execution_count": null,
   "metadata": {
    "id": "UR40i64n3BV5",
    "outputId": "f27addf0-2743-4ce3-9360-a7b16191e898"
   },
   "outputs": [
    {
     "name": "stdout",
     "output_type": "stream",
     "text": [
      "Epoch 1/15, Training Loss: 0.9837, Validation Loss: 0.6321\n",
      "Epoch 2/15, Training Loss: 0.5767, Validation Loss: 0.4795\n",
      "Epoch 3/15, Training Loss: 0.4467, Validation Loss: 0.4052\n",
      "Epoch 4/15, Training Loss: 0.4186, Validation Loss: 0.3829\n",
      "Epoch 5/15, Training Loss: 0.4126, Validation Loss: 0.4309\n",
      "Epoch 6/15, Training Loss: 0.3590, Validation Loss: 0.3217\n",
      "Epoch 7/15, Training Loss: 0.3294, Validation Loss: 0.3133\n",
      "Epoch 8/15, Training Loss: 0.3318, Validation Loss: 0.3401\n",
      "Epoch 9/15, Training Loss: 0.2767, Validation Loss: 0.2654\n",
      "Epoch 10/15, Training Loss: 0.3018, Validation Loss: 0.2672\n",
      "Epoch 11/15, Training Loss: 0.2871, Validation Loss: 0.2572\n",
      "Epoch 12/15, Training Loss: 0.2847, Validation Loss: 0.3320\n",
      "Epoch 13/15, Training Loss: 0.2931, Validation Loss: 0.2698\n",
      "Epoch 14/15, Training Loss: 0.2455, Validation Loss: 0.2559\n",
      "Epoch 15/15, Training Loss: 0.2233, Validation Loss: 0.2131\n",
      "Total time taken for training: 0:57:53.821745\n"
     ]
    }
   ],
   "source": [
    "model_relu = FeedForwardNeuralNets(X_train, [500, 250, 100], y_train_one_hot, optimizer=\"gd\", batch_size=64, g=Activations.ReLU())\n",
    "\n",
    "\n",
    "start_time = datetime.now()\n",
    "\n",
    "\n",
    "\n",
    "model_relu.train(epochs=15, validation_data=[X_val, y_val_one_hot])\n",
    "\n",
    "\n",
    "end_time = datetime.now()\n",
    "\n",
    "time_taken = end_time - start_time\n",
    "print(f\"Total time taken for training: {time_taken}\")\n",
    "\n",
    "# This cell takes 57 mins 53 seconds in total"
   ]
  },
  {
   "cell_type": "markdown",
   "metadata": {
    "id": "vKw-7VNk3BV6"
   },
   "source": [
    "# Plotting the Train and validation loss for every 200 iterations for $\\text{Tanh}$ model\n",
    "\n",
    "We will try to plot how the loss varies for every 200 iterations."
   ]
  },
  {
   "cell_type": "code",
   "execution_count": null,
   "metadata": {
    "id": "r4rETNO03BV6",
    "outputId": "bf409bd2-d869-4981-a68c-bb2b5a016f2b"
   },
   "outputs": [
    {
     "data": {
      "image/png": "[encoded data removed]",
      "text/plain": [
       "<Figure size 640x480 with 1 Axes>"
      ]
     },
     "metadata": {},
     "output_type": "display_data"
    }
   ],
   "source": [
    "x_axis = np.arange(60)\n",
    "train_loss = np.array(model_tanh.training_loss)\n",
    "validation_loss = np.array(model_tanh.validation_loss)\n",
    "\n",
    "plt.plot(x_axis, train_loss, label='Training Loss')\n",
    "plt.plot(x_axis, validation_loss, label='Validation Loss')\n",
    "\n",
    "plt.title('Training vs Validation Loss for Tanh model')\n",
    "plt.xlabel('Iteration (in 200s)')\n",
    "plt.ylabel('Loss')\n",
    "\n",
    "\n",
    "plt.legend()\n",
    "plt.savefig('training_vs_validation_loss_tanh.png')\n",
    "plt.show()"
   ]
  },
  {
   "cell_type": "markdown",
   "metadata": {
    "id": "6aAfShIA3BV6"
   },
   "source": [
    "# Plotting the Train and validation loss for every 200 iterations for $\\text{ReLU}$ model\n",
    "\n",
    "We will try to plot how the loss varies for every 200 iterations."
   ]
  },
  {
   "cell_type": "code",
   "execution_count": null,
   "metadata": {
    "id": "7ymzCCUi3BV7",
    "outputId": "59dde33a-087b-483c-c3b5-7842339c36a8"
   },
   "outputs": [
    {
     "data": {
      "image/png": "[encoded data removed]",
      "text/plain": [
       "<Figure size 640x480 with 1 Axes>"
      ]
     },
     "metadata": {},
     "output_type": "display_data"
    }
   ],
   "source": [
    "x_axis = np.arange(60)\n",
    "train_loss = np.array(model_relu.training_loss)\n",
    "validation_loss = np.array(model_relu.validation_loss)\n",
    "\n",
    "plt.plot(x_axis, train_loss, label='Training Loss')\n",
    "plt.plot(x_axis, validation_loss, label='Validation Loss')\n",
    "\n",
    "plt.title('Training vs Validation Loss for ReLU model')\n",
    "plt.xlabel('Iteration (in 200s)')\n",
    "plt.ylabel('Loss')\n",
    "\n",
    "\n",
    "plt.legend()\n",
    "plt.savefig('training_vs_validation_loss_relu.png')\n",
    "plt.show()"
   ]
  },
  {
   "cell_type": "markdown",
   "metadata": {
    "id": "wayPCxes3BV7"
   },
   "source": [
    "# Classification report for $\\text{Tanh}$ and $\\text{ReLU}$"
   ]
  },
  {
   "cell_type": "markdown",
   "metadata": {
    "id": "vwvyfQUC3BV7"
   },
   "source": [
    "## $\\text{Tanh}$\n",
    "\n",
    "Train Data"
   ]
  },
  {
   "cell_type": "code",
   "execution_count": null,
   "metadata": {
    "id": "YJIxG_8z3BV7",
    "outputId": "7806e2b5-ae09-4a59-9b1b-6b04afa11da9"
   },
   "outputs": [
    {
     "name": "stdout",
     "output_type": "stream",
     "text": [
      "              precision    recall  f1-score   support\n",
      "\n",
      "           0       0.96      0.97      0.96      4968\n",
      "           1       0.98      0.98      0.98      5689\n",
      "           2       0.93      0.95      0.94      4967\n",
      "           3       0.94      0.90      0.92      5141\n",
      "           4       0.96      0.89      0.92      4872\n",
      "           5       0.95      0.89      0.92      4524\n",
      "           6       0.98      0.93      0.95      4932\n",
      "           7       0.97      0.90      0.93      5192\n",
      "           8       0.85      0.94      0.89      4832\n",
      "           9       0.82      0.96      0.88      4883\n",
      "\n",
      "    accuracy                           0.93     50000\n",
      "   macro avg       0.93      0.93      0.93     50000\n",
      "weighted avg       0.93      0.93      0.93     50000\n",
      "\n"
     ]
    }
   ],
   "source": [
    "y_train_pred_tanh = []\n",
    "for x in X_train:\n",
    "    y_pred = model_tanh.predict(x)\n",
    "    y_train_pred_tanh.append(y_pred)\n",
    "\n",
    "y_train_pred_tanh = np.array(y_train_pred_tanh)\n",
    "print(classification_report(y_train, y_train_pred_tanh))"
   ]
  },
  {
   "cell_type": "markdown",
   "metadata": {
    "id": "d4hLYFpI3BV8"
   },
   "source": [
    "## $\\text{Tanh}$\n",
    "Test Data"
   ]
  },
  {
   "cell_type": "code",
   "execution_count": null,
   "metadata": {
    "id": "Q5yneFVl3BV8",
    "outputId": "d892a967-2e9a-4cd8-b12a-1632add09f5d"
   },
   "outputs": [
    {
     "name": "stdout",
     "output_type": "stream",
     "text": [
      "              precision    recall  f1-score   support\n",
      "\n",
      "           0       0.94      0.99      0.96       980\n",
      "           1       0.98      0.98      0.98      1135\n",
      "           2       0.92      0.94      0.93      1032\n",
      "           3       0.93      0.91      0.92      1010\n",
      "           4       0.96      0.89      0.93       982\n",
      "           5       0.94      0.89      0.91       892\n",
      "           6       0.98      0.91      0.94       958\n",
      "           7       0.95      0.88      0.92      1028\n",
      "           8       0.87      0.93      0.90       974\n",
      "           9       0.83      0.95      0.89      1009\n",
      "\n",
      "    accuracy                           0.93     10000\n",
      "   macro avg       0.93      0.93      0.93     10000\n",
      "weighted avg       0.93      0.93      0.93     10000\n",
      "\n"
     ]
    }
   ],
   "source": [
    "y_test_pred_tanh = []\n",
    "for x in X_test:\n",
    "    y_pred = model_tanh.predict(x)\n",
    "    y_test_pred_tanh.append(y_pred)\n",
    "\n",
    "y_test_pred_tanh = np.array(y_test_pred_tanh)\n",
    "print(classification_report(y_test, y_test_pred_tanh))"
   ]
  },
  {
   "cell_type": "markdown",
   "metadata": {
    "id": "RMpa1yZ_3BV8"
   },
   "source": [
    "## $\\text{ReLU}$\n",
    "\n",
    "Train data"
   ]
  },
  {
   "cell_type": "code",
   "execution_count": null,
   "metadata": {
    "id": "9qGfT78W3BV9",
    "outputId": "c1006281-2367-450c-a26a-2824f4bd2de1"
   },
   "outputs": [
    {
     "name": "stdout",
     "output_type": "stream",
     "text": [
      "              precision    recall  f1-score   support\n",
      "\n",
      "           0       0.93      0.99      0.96      4968\n",
      "           1       0.99      0.97      0.98      5689\n",
      "           2       0.91      0.96      0.94      4967\n",
      "           3       0.96      0.92      0.94      5141\n",
      "           4       0.94      0.95      0.94      4872\n",
      "           5       0.88      0.95      0.91      4524\n",
      "           6       0.96      0.96      0.96      4932\n",
      "           7       0.96      0.93      0.95      5192\n",
      "           8       0.95      0.88      0.91      4832\n",
      "           9       0.92      0.91      0.91      4883\n",
      "\n",
      "    accuracy                           0.94     50000\n",
      "   macro avg       0.94      0.94      0.94     50000\n",
      "weighted avg       0.94      0.94      0.94     50000\n",
      "\n"
     ]
    }
   ],
   "source": [
    "y_train_pred_relu = []\n",
    "for x in X_train:\n",
    "    y_pred = model_relu.predict(x)\n",
    "    y_train_pred_relu.append(y_pred)\n",
    "\n",
    "y_train_pred_relu = np.array(y_train_pred_relu)\n",
    "print(classification_report(y_train, y_train_pred_relu))"
   ]
  },
  {
   "cell_type": "code",
   "execution_count": null,
   "metadata": {
    "id": "H5xLF5jb3BV-"
   },
   "outputs": [],
   "source": [
    "y_test_pred_relu = []\n",
    "for x in X_test:\n",
    "    y_pred = model_relu.predict(x)\n",
    "    y_test_pred_relu.append(y_pred)\n",
    "\n",
    "y_test_pred_relu = np.array(y_test_pred_relu)\n",
    "print(classification_report(y_test, y_test_pred_relu))\n",
    "\n",
    "# The output is there in the report. Please look at that"
   ]
  },
  {
   "cell_type": "markdown",
   "metadata": {
    "id": "hissVSfd3BV-"
   },
   "source": [
    "# Regularization on the better model\n",
    "\n",
    "We see that $\\text{ReLU}$ performs better than sigmoid and $\\text{Tanh}$. So we will perform $L_2$ regularization on model $\\text{ReLU}$"
   ]
  },
  {
   "cell_type": "code",
   "execution_count": null,
   "metadata": {
    "id": "CpgHE88b3BV-",
    "outputId": "75ecadb2-2121-4a89-901c-446a270d8c43"
   },
   "outputs": [
    {
     "name": "stdout",
     "output_type": "stream",
     "text": [
      "Epoch 1/15, Training Loss: 11.3984, Validation Loss: 10.7624\n",
      "Epoch 2/15, Training Loss: 9.5719, Validation Loss: 9.1938\n",
      "Epoch 3/15, Training Loss: 8.3015, Validation Loss: 8.1260\n",
      "Epoch 4/15, Training Loss: 7.2534, Validation Loss: 7.4504\n",
      "Epoch 5/15, Training Loss: 6.3233, Validation Loss: 6.1156\n",
      "Epoch 6/15, Training Loss: 5.5729, Validation Loss: 5.4898\n",
      "Epoch 7/15, Training Loss: 4.9239, Validation Loss: 4.7039\n",
      "Epoch 8/15, Training Loss: 4.3336, Validation Loss: 4.2440\n",
      "Epoch 9/15, Training Loss: 3.8721, Validation Loss: 3.6975\n",
      "Epoch 10/15, Training Loss: 3.4169, Validation Loss: 3.2924\n",
      "Epoch 11/15, Training Loss: 3.0496, Validation Loss: 2.9853\n",
      "Epoch 12/15, Training Loss: 2.7812, Validation Loss: 2.7342\n",
      "Epoch 13/15, Training Loss: 2.5181, Validation Loss: 2.4351\n",
      "Epoch 14/15, Training Loss: 2.2807, Validation Loss: 2.2350\n",
      "Epoch 15/15, Training Loss: 2.0902, Validation Loss: 2.0112\n",
      "Total time taken for training: 1:03:26.456915\n"
     ]
    }
   ],
   "source": [
    "cross_entropy_reg_l2 = LossFunctions.CrossEntropyLoss(regularization='l2', alpha=0.01)\n",
    "\n",
    "model_relu_l2 = FeedForwardNeuralNets(X_train, [500, 250, 100], y_train_one_hot, optimizer=\"gd\", batch_size=64, g=Activations.ReLU(),\n",
    "                                  L=cross_entropy_reg_l2)\n",
    "\n",
    "\n",
    "start_time = datetime.now()\n",
    "\n",
    "\n",
    "\n",
    "model_relu_l2.train(epochs=15, validation_data=[X_val, y_val_one_hot])\n",
    "\n",
    "\n",
    "end_time = datetime.now()\n",
    "\n",
    "time_taken = end_time - start_time\n",
    "print(f\"Total time taken for training: {time_taken}\")\n",
    "\n",
    "# Total time taken : 1 hr 06 mins"
   ]
  },
  {
   "cell_type": "markdown",
   "metadata": {
    "id": "C_GRepAd3BV-"
   },
   "source": [
    "# Plotting graphs and getting classification report"
   ]
  },
  {
   "cell_type": "code",
   "execution_count": null,
   "metadata": {
    "id": "IurhCgag3BV_",
    "outputId": "ce08eaa3-4d11-4b5c-a191-551fb2ff1cd7"
   },
   "outputs": [
    {
     "data": {
      "image/png": "[encoded data removed]",
      "text/plain": [
       "<Figure size 640x480 with 1 Axes>"
      ]
     },
     "metadata": {},
     "output_type": "display_data"
    }
   ],
   "source": [
    "x_axis = np.arange(60)\n",
    "train_loss = np.array(model_relu_l2.training_loss)\n",
    "validation_loss = np.array(model_relu_l2.validation_loss)\n",
    "\n",
    "plt.plot(x_axis, train_loss, label='Training Loss')\n",
    "plt.plot(x_axis, validation_loss, label='Validation Loss')\n",
    "\n",
    "plt.title('Training vs Validation Loss for ReLU with $L_2$ regularization model (alpha = 0.01)')\n",
    "plt.xlabel('Iteration (in 200s)')\n",
    "plt.ylabel('Loss')\n",
    "\n",
    "\n",
    "plt.legend()\n",
    "plt.savefig('training_vs_validation_loss_relu_l2.png')\n",
    "plt.show()"
   ]
  },
  {
   "cell_type": "code",
   "execution_count": null,
   "metadata": {
    "id": "9TGocCLZ3BV_",
    "outputId": "4225cf14-4f61-4ce7-b51f-ab8133661e50"
   },
   "outputs": [
    {
     "name": "stdout",
     "output_type": "stream",
     "text": [
      "              precision    recall  f1-score   support\n",
      "\n",
      "           0       0.89      0.94      0.92      4968\n",
      "           1       0.65      0.98      0.79      5689\n",
      "           2       0.87      0.72      0.79      4967\n",
      "           3       0.89      0.62      0.73      5141\n",
      "           4       0.77      0.85      0.81      4872\n",
      "           5       0.73      0.78      0.76      4524\n",
      "           6       0.82      0.92      0.87      4932\n",
      "           7       0.72      0.89      0.80      5192\n",
      "           8       0.78      0.58      0.66      4832\n",
      "           9       0.84      0.47      0.60      4883\n",
      "\n",
      "    accuracy                           0.78     50000\n",
      "   macro avg       0.80      0.78      0.77     50000\n",
      "weighted avg       0.79      0.78      0.77     50000\n",
      "\n"
     ]
    }
   ],
   "source": [
    "y_train_pred_relu_l2 = []\n",
    "for x in X_train:\n",
    "    y_pred = model_relu_l2.predict(x)\n",
    "    y_train_pred_relu_l2.append(y_pred)\n",
    "\n",
    "y_train_pred_relu_l2 = np.array(y_train_pred_relu_l2)\n",
    "print(classification_report(y_train, y_train_pred_relu_l2))"
   ]
  },
  {
   "cell_type": "markdown",
   "metadata": {
    "id": "jEtZuQ4W3BV_"
   },
   "source": [
    "# Experiments with different models"
   ]
  },
  {
   "cell_type": "code",
   "execution_count": null,
   "metadata": {
    "id": "K4P5wFqB3BV_",
    "outputId": "b7a219bf-f704-4cec-8819-5daec249bfa8"
   },
   "outputs": [
    {
     "name": "stdout",
     "output_type": "stream",
     "text": [
      "Epoch 1/15, Training Loss: 2.0271, Validation Loss: 2.0511\n",
      "Epoch 2/15, Training Loss: 1.6989, Validation Loss: 1.3248\n",
      "Epoch 3/15, Training Loss: 1.9417, Validation Loss: 2.5326\n",
      "Epoch 4/15, Training Loss: 1.7098, Validation Loss: 1.4595\n",
      "Epoch 5/15, Training Loss: 1.5395, Validation Loss: 1.3042\n",
      "Epoch 6/15, Training Loss: 1.4193, Validation Loss: 1.4811\n",
      "Epoch 7/15, Training Loss: 1.3879, Validation Loss: 1.3884\n",
      "Epoch 8/15, Training Loss: 1.2468, Validation Loss: 1.4849\n",
      "Epoch 9/15, Training Loss: 1.3437, Validation Loss: 1.3594\n",
      "Epoch 10/15, Training Loss: 1.5493, Validation Loss: 1.4520\n",
      "Epoch 11/15, Training Loss: 1.6902, Validation Loss: 1.5791\n",
      "Epoch 12/15, Training Loss: 1.5291, Validation Loss: 1.6458\n",
      "Epoch 13/15, Training Loss: 1.6245, Validation Loss: 1.8170\n",
      "Epoch 14/15, Training Loss: 1.6224, Validation Loss: 1.7843\n",
      "Epoch 15/15, Training Loss: 1.8279, Validation Loss: 1.4440\n",
      "Total time taken for training: 0:05:54.533827\n"
     ]
    }
   ],
   "source": [
    "simple_model = FeedForwardNeuralNets(X_train, [60, 60], y_train_one_hot, optimizer='adam', batch_size=128, g=Activations.ReLU())\n",
    "\n",
    "start_time = datetime.now()\n",
    "\n",
    "\n",
    "\n",
    "simple_model.train(epochs=15, validation_data=[X_val, y_val_one_hot])\n",
    "\n",
    "\n",
    "end_time = datetime.now()\n",
    "\n",
    "time_taken = end_time - start_time\n",
    "print(f\"Total time taken for training: {time_taken}\")\n",
    "\n",
    "# Total time taken : 5 min 54 sec"
   ]
  },
  {
   "cell_type": "code",
   "execution_count": null,
   "metadata": {
    "id": "NVCjQDSy3BV_",
    "outputId": "d2bc0a59-e475-4591-c688-cf85d356f6bc"
   },
   "outputs": [
    {
     "data": {
      "image/png": "[encoded data removed]",
      "text/plain": [
       "<Figure size 640x480 with 1 Axes>"
      ]
     },
     "metadata": {},
     "output_type": "display_data"
    }
   ],
   "source": [
    "x_axis = np.arange(30)\n",
    "train_loss = np.array(simple_model.training_loss)\n",
    "validation_loss = np.array(simple_model.validation_loss)\n",
    "\n",
    "plt.plot(x_axis, train_loss, label='Training Loss')\n",
    "plt.plot(x_axis, validation_loss, label='Validation Loss')\n",
    "\n",
    "plt.title('Training vs Validation Loss for 60 x 60 hidden layer model')\n",
    "plt.xlabel('Iteration (in 200s)')\n",
    "plt.ylabel('Loss')\n",
    "\n",
    "\n",
    "plt.legend()\n",
    "plt.savefig('training_vs_validation_loss_rsimple.png')\n",
    "plt.show()"
   ]
  },
  {
   "cell_type": "code",
   "execution_count": null,
   "metadata": {
    "id": "MFxaFM-W3BWA",
    "outputId": "aa3793af-8717-45b2-ed8b-546658422572"
   },
   "outputs": [
    {
     "name": "stdout",
     "output_type": "stream",
     "text": [
      "              precision    recall  f1-score   support\n",
      "\n",
      "           0       0.98      0.66      0.79      4968\n",
      "           1       0.24      0.99      0.39      5689\n",
      "           2       0.90      0.55      0.68      4967\n",
      "           3       0.87      0.36      0.51      5141\n",
      "           4       0.47      0.79      0.59      4872\n",
      "           5       0.03      0.00      0.00      4524\n",
      "           6       1.00      0.12      0.21      4932\n",
      "           7       0.96      0.72      0.83      5192\n",
      "           8       0.01      0.00      0.00      4832\n",
      "           9       0.20      0.18      0.19      4883\n",
      "\n",
      "    accuracy                           0.45     50000\n",
      "   macro avg       0.57      0.44      0.42     50000\n",
      "weighted avg       0.57      0.45      0.43     50000\n",
      "\n"
     ]
    }
   ],
   "source": [
    "y_train_pred_simple = []\n",
    "for x in X_train:\n",
    "    y_pred = simple_model.predict(x)\n",
    "    y_train_pred_simple.append(y_pred)\n",
    "\n",
    "y_train_pred_simple = np.array(y_train_pred_simple)\n",
    "print(classification_report(y_train, y_train_pred_simple))"
   ]
  },
  {
   "cell_type": "code",
   "execution_count": null,
   "metadata": {
    "id": "zK4HvO6q3BWA",
    "outputId": "a43b117b-d78e-4606-9e98-5628dab45aff"
   },
   "outputs": [
    {
     "name": "stdout",
     "output_type": "stream",
     "text": [
      "Epoch 1/15, Training Loss: 2.8796, Validation Loss: 2.7155\n",
      "Epoch 2/15, Training Loss: 2.7369, Validation Loss: 2.4332\n",
      "Epoch 3/15, Training Loss: 2.7762, Validation Loss: 3.0455\n",
      "Epoch 4/15, Training Loss: 2.8017, Validation Loss: 2.5939\n",
      "Epoch 5/15, Training Loss: 2.6731, Validation Loss: 2.6385\n",
      "Epoch 6/15, Training Loss: 2.7330, Validation Loss: 2.6124\n",
      "Epoch 7/15, Training Loss: 2.8385, Validation Loss: 3.1715\n",
      "Epoch 8/15, Training Loss: 2.8315, Validation Loss: 2.9605\n",
      "Epoch 9/15, Training Loss: 2.7560, Validation Loss: 2.6486\n",
      "Epoch 10/15, Training Loss: 2.7437, Validation Loss: 2.6045\n",
      "Epoch 11/15, Training Loss: 2.7349, Validation Loss: 2.6444\n",
      "Epoch 12/15, Training Loss: 2.7772, Validation Loss: 2.7866\n",
      "Epoch 13/15, Training Loss: 2.8654, Validation Loss: 3.2698\n",
      "Epoch 14/15, Training Loss: 2.7987, Validation Loss: 3.0186\n",
      "Epoch 15/15, Training Loss: 2.7348, Validation Loss: 2.8175\n",
      "Total time taken for training: 0:07:12.886348\n"
     ]
    }
   ],
   "source": [
    "simple_model_tanh = FeedForwardNeuralNets(X_train, [75, 100, 60], y_train_one_hot, optimizer='adam', batch_size=128, g=Activations.Tanh())\n",
    "\n",
    "start_time = datetime.now()\n",
    "\n",
    "\n",
    "\n",
    "simple_model_tanh.train(epochs=15, validation_data=[X_val, y_val_one_hot])\n",
    "\n",
    "\n",
    "end_time = datetime.now()\n",
    "\n",
    "time_taken = end_time - start_time\n",
    "print(f\"Total time taken for training: {time_taken}\")\n",
    "\n",
    "# Total time taken :"
   ]
  },
  {
   "cell_type": "code",
   "execution_count": null,
   "metadata": {
    "id": "QH_rqj0b3BWA",
    "outputId": "a966f766-38fa-4ec1-a280-a5fc55c76888"
   },
   "outputs": [
    {
     "data": {
      "image/png": "[encoded data removed]",
      "text/plain": [
       "<Figure size 640x480 with 1 Axes>"
      ]
     },
     "metadata": {},
     "output_type": "display_data"
    }
   ],
   "source": [
    "x_axis = np.arange(30)\n",
    "train_loss = np.array(simple_model_tanh.training_loss)\n",
    "validation_loss = np.array(simple_model_tanh.validation_loss)\n",
    "\n",
    "plt.plot(x_axis, train_loss, label='Training Loss')\n",
    "plt.plot(x_axis, validation_loss, label='Validation Loss')\n",
    "\n",
    "plt.title('Training vs Validation Loss for 75 x 100 x 60 hidden layer model')\n",
    "plt.xlabel('Iteration (in 200s)')\n",
    "plt.ylabel('Loss')\n",
    "\n",
    "\n",
    "plt.legend()\n",
    "plt.savefig('training_vs_validation_loss_rsimple.png')\n",
    "plt.show()"
   ]
  },
  {
   "cell_type": "code",
   "execution_count": null,
   "metadata": {
    "id": "zxcmWIx23BWB",
    "outputId": "bf781481-5dd4-4981-e3ac-bb2b3a63fb66"
   },
   "outputs": [
    {
     "name": "stdout",
     "output_type": "stream",
     "text": [
      "              precision    recall  f1-score   support\n",
      "\n",
      "           0       0.98      0.66      0.79      4968\n",
      "           1       0.24      0.99      0.39      5689\n",
      "           2       0.90      0.55      0.68      4967\n",
      "           3       0.87      0.36      0.51      5141\n",
      "           4       0.47      0.79      0.59      4872\n",
      "           5       0.03      0.00      0.00      4524\n",
      "           6       1.00      0.12      0.21      4932\n",
      "           7       0.96      0.72      0.83      5192\n",
      "           8       0.01      0.00      0.00      4832\n",
      "           9       0.20      0.18      0.19      4883\n",
      "\n",
      "    accuracy                           0.45     50000\n",
      "   macro avg       0.57      0.44      0.42     50000\n",
      "weighted avg       0.57      0.45      0.43     50000\n",
      "\n"
     ]
    }
   ],
   "source": [
    "y_train_pred_simple = []\n",
    "for x in X_train:\n",
    "    y_pred = simple_model.predict(x)\n",
    "    y_train_pred_simple.append(y_pred)\n",
    "\n",
    "y_train_pred_simple = np.array(y_train_pred_simple)\n",
    "print(classification_report(y_train, y_train_pred_simple))"
   ]
  },
  {
   "cell_type": "markdown",
   "metadata": {
    "id": "laY88xNWIQxS"
   },
   "source": [
    "# Using packages to mimic the same network"
   ]
  },
  {
   "cell_type": "code",
   "execution_count": 4,
   "metadata": {
    "id": "6afXJhEcIUb8"
   },
   "outputs": [],
   "source": [
    "import torch.nn as nn\n",
    "import torch.optim as optim\n",
    "from torch.utils.data import DataLoader, TensorDataset\n",
    "\n",
    "class MLP(nn.Module):\n",
    "    def __init__(self, input_size, hidden_layers, output_size, g=nn.Sigmoid(), O=nn.Softmax(dim=1)):\n",
    "        super(MLP, self).__init__()\n",
    "        layers = []\n",
    "        layer_sizes = [input_size] + hidden_layers\n",
    "        for i in range(len(layer_sizes) - 1):\n",
    "            layers.append(nn.Linear(layer_sizes[i], layer_sizes[i + 1]))\n",
    "            layers.append(g)\n",
    "\n",
    "        layers.append(nn.Linear(layer_sizes[-1], output_size))\n",
    "        layers.append(O)\n",
    "\n",
    "        self.model = nn.Sequential(*layers)\n",
    "\n",
    "    def forward(self, x):\n",
    "        return self.model(x)"
   ]
  },
  {
   "cell_type": "markdown",
   "metadata": {
    "id": "Db9SDXNuLGh4"
   },
   "source": [
    "# Trial Run"
   ]
  },
  {
   "cell_type": "code",
   "execution_count": 5,
   "metadata": {
    "id": "BVNQID0zeEX0"
   },
   "outputs": [],
   "source": [
    "import torch\n",
    "from torch.utils.data import DataLoader, random_split\n",
    "\n",
    "\n",
    "batch_size = 64\n",
    "\n",
    "\n",
    "\n",
    "train_size = int(0.8 * len(training_data))\n",
    "val_size = len(training_data) - train_size\n",
    "train_data, val_data = random_split(training_data, [train_size, val_size])\n",
    "\n",
    "\n",
    "train_loader = DataLoader(dataset=train_data, batch_size=batch_size, shuffle=True)\n",
    "val_loader = DataLoader(dataset=val_data, batch_size=batch_size, shuffle=False)\n",
    "test_loader = DataLoader(dataset=test_data, batch_size=batch_size, shuffle=False)"
   ]
  },
  {
   "cell_type": "code",
   "execution_count": 6,
   "metadata": {
    "id": "mC04LPOqeKRo"
   },
   "outputs": [],
   "source": [
    "def train(model, train_loader, val_loader, criterion, optimizer, epochs, input_size=28*28, device='cpu'):\n",
    "    \"\"\"\n",
    "    Trains the given model on the provided dataset using GPU if available.\n",
    "\n",
    "    Args:\n",
    "    - model: The neural network model (an instance of nn.Module).\n",
    "    - train_loader: DataLoader for the training dataset.\n",
    "    - val_loader: DataLoader for the validation/test dataset.\n",
    "    - criterion: Loss function.\n",
    "    - optimizer: Optimizer.\n",
    "    - epochs: Number of epochs to train the model.\n",
    "    - input_size: Size of the flattened input (e.g., 28*28 for MNIST).\n",
    "    - device: Device to use for computation ('cpu' or 'cuda').\n",
    "\n",
    "    Returns:\n",
    "    - train_losses: List of training losses per epoch.\n",
    "    - val_losses: List of validation losses per epoch.\n",
    "    \"\"\"\n",
    "\n",
    "    model.to(device)\n",
    "\n",
    "\n",
    "    train_losses = []\n",
    "    val_losses = []\n",
    "\n",
    "    for epoch in range(epochs):\n",
    "        model.train()\n",
    "        running_loss = 0.0\n",
    "\n",
    "        for images, labels in train_loader:\n",
    "\n",
    "            images, labels = images.view(-1, input_size).to(device), labels.to(device)\n",
    "\n",
    "\n",
    "            outputs = model(images)\n",
    "            loss = criterion(outputs, labels)\n",
    "\n",
    "\n",
    "            optimizer.zero_grad()\n",
    "            loss.backward()\n",
    "            optimizer.step()\n",
    "\n",
    "            running_loss += loss.item()\n",
    "\n",
    "        train_loss = running_loss / len(train_loader)\n",
    "        train_losses.append(train_loss)\n",
    "\n",
    "\n",
    "        model.eval()\n",
    "        val_loss = 0.0\n",
    "        with torch.no_grad():\n",
    "            for images, labels in val_loader:\n",
    "                images, labels = images.view(-1, input_size).to(device), labels.to(device)\n",
    "                outputs = model(images)\n",
    "                loss = criterion(outputs, labels)\n",
    "                val_loss += loss.item()\n",
    "\n",
    "        val_loss = val_loss / len(val_loader)\n",
    "        val_losses.append(val_loss)\n",
    "\n",
    "        print(f\"Epoch [{epoch+1}/{epochs}], Training Loss: {train_loss:.4f}, Validation Loss: {val_loss:.4f}\")\n",
    "\n",
    "\n",
    "\n",
    "    return train_losses, val_losses\n"
   ]
  },
  {
   "cell_type": "code",
   "execution_count": 8,
   "metadata": {
    "colab": {
     "base_uri": "https://localhost:8080/"
    },
    "id": "ZMwD7Q54fKWl",
    "outputId": "26914439-35c7-43ba-ecde-48dd1d5780fb"
   },
   "outputs": [
    {
     "data": {
      "text/plain": [
       "MLP(\n",
       "  (model): Sequential(\n",
       "    (0): Linear(in_features=784, out_features=500, bias=True)\n",
       "    (1): Sigmoid()\n",
       "    (2): Linear(in_features=500, out_features=250, bias=True)\n",
       "    (3): Sigmoid()\n",
       "    (4): Linear(in_features=250, out_features=100, bias=True)\n",
       "    (5): Sigmoid()\n",
       "    (6): Linear(in_features=100, out_features=10, bias=True)\n",
       "    (7): Softmax(dim=1)\n",
       "  )\n",
       ")"
      ]
     },
     "execution_count": 8,
     "metadata": {},
     "output_type": "execute_result"
    }
   ],
   "source": [
    "device = torch.device('cuda' if torch.cuda.is_available() else 'cpu')\n",
    "\n",
    "\n",
    "baseline_torch_model = MLP(input_size=28*28, hidden_layers=[500, 250, 100], output_size=10)\n",
    "criterion = nn.CrossEntropyLoss()\n",
    "optimizer = optim.Adam(baseline_torch_model.parameters(), lr=0.01)\n",
    "\n",
    "\n",
    "baseline_torch_model"
   ]
  },
  {
   "cell_type": "code",
   "execution_count": 9,
   "metadata": {
    "colab": {
     "base_uri": "https://localhost:8080/"
    },
    "id": "98oQXurrqPTv",
    "outputId": "585b45f9-269b-4278-c401-50ed0a0e6d48"
   },
   "outputs": [
    {
     "data": {
      "text/plain": [
       "{'lr': 0.01,\n",
       " 'betas': (0.9, 0.999),\n",
       " 'eps': 1e-08,\n",
       " 'weight_decay': 0,\n",
       " 'amsgrad': False,\n",
       " 'maximize': False,\n",
       " 'foreach': None,\n",
       " 'capturable': False,\n",
       " 'differentiable': False,\n",
       " 'fused': None}"
      ]
     },
     "execution_count": 9,
     "metadata": {},
     "output_type": "execute_result"
    }
   ],
   "source": [
    "optimizer.defaults"
   ]
  },
  {
   "cell_type": "code",
   "execution_count": 11,
   "metadata": {
    "colab": {
     "base_uri": "https://localhost:8080/"
    },
    "id": "t_C7pvGEqVB6",
    "outputId": "5d87abdf-3769-4108-c0be-6ac112976ad1"
   },
   "outputs": [
    {
     "name": "stdout",
     "output_type": "stream",
     "text": [
      "Epoch [1/15], Training Loss: 1.7528, Validation Loss: 1.5491\n",
      "Epoch [2/15], Training Loss: 1.5431, Validation Loss: 1.5396\n",
      "Epoch [3/15], Training Loss: 1.5271, Validation Loss: 1.5226\n",
      "Epoch [4/15], Training Loss: 1.5223, Validation Loss: 1.5144\n",
      "Epoch [5/15], Training Loss: 1.5182, Validation Loss: 1.5173\n",
      "Epoch [6/15], Training Loss: 1.5156, Validation Loss: 1.5175\n",
      "Epoch [7/15], Training Loss: 1.5158, Validation Loss: 1.5130\n",
      "Epoch [8/15], Training Loss: 1.5122, Validation Loss: 1.5107\n",
      "Epoch [9/15], Training Loss: 1.5115, Validation Loss: 1.5149\n",
      "Epoch [10/15], Training Loss: 1.5124, Validation Loss: 1.5137\n",
      "Epoch [11/15], Training Loss: 1.5104, Validation Loss: 1.5134\n",
      "Epoch [12/15], Training Loss: 1.5100, Validation Loss: 1.5194\n",
      "Epoch [13/15], Training Loss: 1.5127, Validation Loss: 1.5137\n",
      "Epoch [14/15], Training Loss: 1.5076, Validation Loss: 1.5134\n",
      "Epoch [15/15], Training Loss: 1.5082, Validation Loss: 1.5209\n"
     ]
    }
   ],
   "source": [
    "train_losses, val_losses = train(baseline_torch_model, train_loader, val_loader, criterion, optimizer, epochs=15, device=device)"
   ]
  },
  {
   "cell_type": "markdown",
   "metadata": {
    "id": "NhqyxW2MmXtd"
   },
   "source": [
    "## Plotting a train and validation curve"
   ]
  },
  {
   "cell_type": "code",
   "execution_count": 12,
   "metadata": {
    "colab": {
     "base_uri": "https://localhost:8080/",
     "height": 472
    },
    "id": "5MCi_221mbZ5",
    "outputId": "f4e3ed0d-f285-4981-adb1-8682cd8c7074"
   },
   "outputs": [
    {
     "data": {
      "image/png": "[encoded data removed]",
      "text/plain": [
       "<Figure size 640x480 with 1 Axes>"
      ]
     },
     "metadata": {},
     "output_type": "display_data"
    }
   ],
   "source": [
    "plt.plot(range(1, len(train_losses)+1), train_losses, label='Training Loss')\n",
    "plt.plot(range(1, len(val_losses)+1), val_losses, label='Validation Loss')\n",
    "plt.xlabel('Epoch')\n",
    "plt.ylabel('Loss')\n",
    "plt.title('Training and Validation Loss')\n",
    "plt.legend()\n",
    "plt.show()"
   ]
  },
  {
   "cell_type": "code",
   "execution_count": 25,
   "metadata": {
    "id": "UM3RtJq5rIFt"
   },
   "outputs": [],
   "source": [
    "def evaluate_data_with_predictions(model, data_loader, criterion, input_size=28*28, device='cpu'):\n",
    "    \"\"\"\n",
    "    Evaluates the model on the entire dataset and returns predictions, test loss, and accuracy.\n",
    "\n",
    "    Args:\n",
    "    - model: The trained neural network model.\n",
    "    - test_loader: DataLoader for the test dataset.\n",
    "    - criterion: The loss function to calculate the test loss.\n",
    "    - input_size: Size of the flattened input (e.g., 28*28 for MNIST).\n",
    "    - device: Device to use for computation ('cpu' or 'cuda').\n",
    "\n",
    "    Returns:\n",
    "    - avg_test_loss: The average test loss over the test dataset.\n",
    "    - accuracy: The accuracy of the model on the test dataset.\n",
    "    - all_predictions: The list of all predicted labels for the test dataset.\n",
    "    - all_true_labels: The list of all true labels from the test dataset.\n",
    "    \"\"\"\n",
    "    model.eval()\n",
    "    model.to(device)\n",
    "\n",
    "    test_loss = 0.0\n",
    "    correct = 0\n",
    "    total = 0\n",
    "    all_predictions = []\n",
    "    all_true_labels = []\n",
    "\n",
    "    with torch.no_grad():\n",
    "        for images, labels in data_loader:\n",
    "\n",
    "            images, labels = images.view(-1, input_size).to(device), labels.to(device)\n",
    "            outputs = model(images)\n",
    "            loss = criterion(outputs, labels)\n",
    "            test_loss += loss.item()\n",
    "            _, predicted = torch.max(outputs, 1)\n",
    "            all_predictions.extend(predicted.cpu().numpy())\n",
    "            all_true_labels.extend(labels.cpu().numpy())\n",
    "\n",
    "\n",
    "            correct += (predicted == labels).sum().item()\n",
    "            total += labels.size(0)\n",
    "\n",
    "\n",
    "\n",
    "    return all_predictions, all_true_labels"
   ]
  },
  {
   "cell_type": "code",
   "execution_count": 26,
   "metadata": {
    "colab": {
     "base_uri": "https://localhost:8080/"
    },
    "id": "Mz0PS7cRsr-F",
    "outputId": "9f47a1e8-3767-416f-d964-be1de984add1"
   },
   "outputs": [
    {
     "name": "stdout",
     "output_type": "stream",
     "text": [
      "              precision    recall  f1-score   support\n",
      "\n",
      "           0       0.98      0.97      0.97      4768\n",
      "           1       0.97      0.99      0.98      5410\n",
      "           2       0.97      0.94      0.95      4793\n",
      "           3       0.99      0.87      0.93      4953\n",
      "           4       0.92      0.96      0.94      4558\n",
      "           5       0.95      0.96      0.95      4323\n",
      "           6       0.92      0.99      0.95      4710\n",
      "           7       0.97      0.95      0.96      5044\n",
      "           8       0.94      0.89      0.91      4755\n",
      "           9       0.86      0.93      0.89      4686\n",
      "\n",
      "    accuracy                           0.94     48000\n",
      "   macro avg       0.95      0.94      0.94     48000\n",
      "weighted avg       0.95      0.94      0.94     48000\n",
      "\n"
     ]
    }
   ],
   "source": [
    "y_pred_train, y_true_train = evaluate_data_with_predictions(baseline_torch_model, train_loader, criterion=criterion, device=device)\n",
    "print(classification_report(y_true_train, y_pred_train))"
   ]
  },
  {
   "cell_type": "code",
   "execution_count": 27,
   "metadata": {
    "colab": {
     "base_uri": "https://localhost:8080/"
    },
    "id": "yfLnJgMcr6sH",
    "outputId": "f837d3b4-f3be-46ba-8afe-5f8ada7dd66a"
   },
   "outputs": [
    {
     "name": "stdout",
     "output_type": "stream",
     "text": [
      "              precision    recall  f1-score   support\n",
      "\n",
      "           0       0.97      0.98      0.97       980\n",
      "           1       0.97      0.99      0.98      1135\n",
      "           2       0.97      0.94      0.96      1032\n",
      "           3       0.98      0.88      0.92      1010\n",
      "           4       0.92      0.97      0.95       982\n",
      "           5       0.94      0.94      0.94       892\n",
      "           6       0.90      0.97      0.93       958\n",
      "           7       0.96      0.93      0.94      1028\n",
      "           8       0.95      0.88      0.92       974\n",
      "           9       0.86      0.93      0.89      1009\n",
      "\n",
      "    accuracy                           0.94     10000\n",
      "   macro avg       0.94      0.94      0.94     10000\n",
      "weighted avg       0.94      0.94      0.94     10000\n",
      "\n"
     ]
    }
   ],
   "source": [
    "y_pred_test, y_true_test = evaluate_data_with_predictions(baseline_torch_model, test_loader, criterion=criterion, device=device)\n",
    "print(classification_report(y_true_test, y_pred_test))"
   ]
  }
 ],
 "metadata": {
  "accelerator": "GPU",
  "colab": {
   "gpuType": "T4",
   "provenance": []
  },
  "kernelspec": {
   "display_name": "Python 3 (ipykernel)",
   "language": "python",
   "name": "python3"
  },
  "language_info": {
   "codemirror_mode": {
    "name": "ipython",
    "version": 3
   },
   "file_extension": ".py",
   "mimetype": "text/x-python",
   "name": "python",
   "nbconvert_exporter": "python",
   "pygments_lexer": "ipython3",
   "version": "3.12.5"
  }
 },
 "nbformat": 4,
 "nbformat_minor": 4
}
